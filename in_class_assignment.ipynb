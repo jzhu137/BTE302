{
  "nbformat": 4,
  "nbformat_minor": 0,
  "metadata": {
    "colab": {
      "provenance": [],
      "authorship_tag": "ABX9TyOStK5LTAFeqmr7QKAX96cl",
      "include_colab_link": true
    },
    "kernelspec": {
      "name": "python3",
      "display_name": "Python 3"
    },
    "language_info": {
      "name": "python"
    }
  },
  "cells": [
    {
      "cell_type": "markdown",
      "metadata": {
        "id": "view-in-github",
        "colab_type": "text"
      },
      "source": [
        "<a href=\"https://colab.research.google.com/github/jzhu137/BTE302/blob/main/in_class_assignment.ipynb\" target=\"_parent\"><img src=\"https://colab.research.google.com/assets/colab-badge.svg\" alt=\"Open In Colab\"/></a>"
      ]
    },
    {
      "cell_type": "markdown",
      "source": [
        "Cylinder Area:"
      ],
      "metadata": {
        "id": "KOdOXeq9wDMe"
      }
    },
    {
      "cell_type": "code",
      "execution_count": null,
      "metadata": {
        "colab": {
          "base_uri": "https://localhost:8080/"
        },
        "id": "tvJMF5XepCoD",
        "outputId": "fe51091e-0975-4006-c4b7-0113291e2b95"
      },
      "outputs": [
        {
          "output_type": "stream",
          "name": "stdout",
          "text": [
            "Enter the radius:5\n",
            "Enter the height: 6\n",
            "Surface Area: 345.4 sq.ft\n"
          ]
        }
      ],
      "source": [
        "R = float(input(\"Enter the radius:\"))\n",
        "H = float(input(\"Enter the height: \"))\n",
        "SA = 2*3.14*R**2 + 2*3.14*R*H\n",
        "print(f'Surface Area: {SA} sq.ft')"
      ]
    },
    {
      "cell_type": "markdown",
      "source": [
        "Calculator:"
      ],
      "metadata": {
        "id": "_S9vp2vBwktF"
      }
    },
    {
      "cell_type": "code",
      "source": [
        "x1 = float(input('Please enter a number: '))\n",
        "symbol = input('Please enter a symbol: ')\n",
        "x3 = float(input('Please enter another number: '))\n",
        "\n",
        "if symbol == '+':\n",
        "  print(x1 + x3)\n",
        "elif symbol == '-':\n",
        "  print(x1 - x3)\n",
        "elif symbol == '%':\n",
        "  print(x1%x3)\n",
        "elif symbol == '/':\n",
        "  print(x1/x3)\n",
        "elif symbol == '//':\n",
        "  print(x1//x3)\n",
        "elif symbol == '**':\n",
        "  print(x1**x3)\n",
        "elif symbol == '*':\n",
        "  print(x1*x3)\n",
        "else:\n",
        "  print('N/A')\n",
        "\n",
        "total = (x1, symbol, x3)\n",
        "print(f'Total value: {total}')\n"
      ],
      "metadata": {
        "id": "tMN3WxbrpYg1",
        "colab": {
          "base_uri": "https://localhost:8080/"
        },
        "outputId": "c51f7b5f-1956-4817-9b1c-209b97807fb4"
      },
      "execution_count": null,
      "outputs": [
        {
          "output_type": "stream",
          "name": "stdout",
          "text": [
            "Please enter a number: 6\n",
            "Please enter a symbol: O\n",
            "Please enter another number: 9\n",
            "N/A\n",
            "Total value: (6.0, 'O', 9.0)\n"
          ]
        }
      ]
    },
    {
      "cell_type": "markdown",
      "source": [
        "Parking Garage:"
      ],
      "metadata": {
        "id": "ytnDJlJ6wG3W"
      }
    },
    {
      "cell_type": "code",
      "source": [
        "for numberHours in range (1,9):\n",
        "  fee = 5 + 2.5*numberHours\n",
        "  if fee < 10:\n",
        "    fee = 10\n",
        "  elif fee > 20:\n",
        "    fee = 20\n",
        "  print(f'Hour {numberHours} fee: ${fee}')"
      ],
      "metadata": {
        "colab": {
          "base_uri": "https://localhost:8080/"
        },
        "id": "kDTnGUrSwI9b",
        "outputId": "f2f84ae2-a5c5-45dd-d2d2-546a47b3f41b"
      },
      "execution_count": null,
      "outputs": [
        {
          "output_type": "stream",
          "name": "stdout",
          "text": [
            "Hour 1 fee: $10\n",
            "Hour 2 fee: $10.0\n",
            "Hour 3 fee: $12.5\n",
            "Hour 4 fee: $15.0\n",
            "Hour 5 fee: $17.5\n",
            "Hour 6 fee: $20.0\n",
            "Hour 7 fee: $20\n",
            "Hour 8 fee: $20\n"
          ]
        }
      ]
    },
    {
      "cell_type": "markdown",
      "source": [
        "Movie Theater"
      ],
      "metadata": {
        "id": "6q69kw_Ow0k3"
      }
    },
    {
      "cell_type": "code",
      "source": [
        "for adMoney in range(0,201,25):\n",
        "  p = round(2*(adMoney**0.5))\n",
        "  print(adMoney, (p*10+200)-200- adMoney)"
      ],
      "metadata": {
        "colab": {
          "base_uri": "https://localhost:8080/"
        },
        "id": "pn8a0vM9wTNS",
        "outputId": "d3b52beb-545c-4368-fc3b-454535eb3cd3"
      },
      "execution_count": null,
      "outputs": [
        {
          "output_type": "stream",
          "name": "stdout",
          "text": [
            "0 0\n",
            "25 75\n",
            "50 90\n",
            "75 95\n",
            "100 100\n",
            "125 95\n",
            "150 90\n",
            "175 85\n",
            "200 80\n"
          ]
        }
      ]
    },
    {
      "cell_type": "code",
      "source": [
        "for adMoney in range(0,201,25):\n",
        "  revenue = ( 20 + 2*round(adMoney**0.5))*10\n",
        "  costs = 200 + adMoney\n",
        "  profit = revenue - costs\n",
        "  print(adMoney, profit)\n"
      ],
      "metadata": {
        "colab": {
          "base_uri": "https://localhost:8080/"
        },
        "id": "WQHV0UjBxKHo",
        "outputId": "0d0500b2-8469-48ba-d6fb-6c885a5c9dcc"
      },
      "execution_count": null,
      "outputs": [
        {
          "output_type": "stream",
          "name": "stdout",
          "text": [
            "0 0\n",
            "25 75\n",
            "50 90\n",
            "75 105\n",
            "100 100\n",
            "125 95\n",
            "150 90\n",
            "175 85\n",
            "200 80\n"
          ]
        }
      ]
    }
  ]
}
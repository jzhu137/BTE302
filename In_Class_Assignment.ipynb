{
  "cells": [
    {
      "cell_type": "markdown",
      "metadata": {
        "id": "view-in-github",
        "colab_type": "text"
      },
      "source": [
        "<a href=\"https://colab.research.google.com/github/jzhu137/BTE302/blob/main/In_Class_Assignment.ipynb\" target=\"_parent\"><img src=\"https://colab.research.google.com/assets/colab-badge.svg\" alt=\"Open In Colab\"/></a>"
      ]
    },
    {
      "cell_type": "markdown",
      "metadata": {
        "id": "KOdOXeq9wDMe"
      },
      "source": [
        "Cylinder Area:"
      ]
    },
    {
      "cell_type": "code",
      "execution_count": null,
      "metadata": {
        "colab": {
          "base_uri": "https://localhost:8080/"
        },
        "id": "tvJMF5XepCoD",
        "outputId": "fe51091e-0975-4006-c4b7-0113291e2b95"
      },
      "outputs": [
        {
          "name": "stdout",
          "output_type": "stream",
          "text": [
            "Enter the radius:5\n",
            "Enter the height: 6\n",
            "Surface Area: 345.4 sq.ft\n"
          ]
        }
      ],
      "source": [
        "R = float(input(\"Enter the radius:\"))\n",
        "H = float(input(\"Enter the height: \"))\n",
        "SA = 2*3.14*R**2 + 2*3.14*R*H\n",
        "print(f'Surface Area: {SA} sq.ft')"
      ]
    },
    {
      "cell_type": "markdown",
      "metadata": {
        "id": "_S9vp2vBwktF"
      },
      "source": [
        "Calculator:"
      ]
    },
    {
      "cell_type": "code",
      "execution_count": null,
      "metadata": {
        "colab": {
          "base_uri": "https://localhost:8080/"
        },
        "id": "tMN3WxbrpYg1",
        "outputId": "c51f7b5f-1956-4817-9b1c-209b97807fb4"
      },
      "outputs": [
        {
          "name": "stdout",
          "output_type": "stream",
          "text": [
            "Please enter a number: 6\n",
            "Please enter a symbol: O\n",
            "Please enter another number: 9\n",
            "N/A\n",
            "Total value: (6.0, 'O', 9.0)\n"
          ]
        }
      ],
      "source": [
        "x1 = float(input('Please enter a number: '))\n",
        "symbol = input('Please enter a symbol: ')\n",
        "x3 = float(input('Please enter another number: '))\n",
        "\n",
        "if symbol == '+':\n",
        "  print(x1 + x3)\n",
        "elif symbol == '-':\n",
        "  print(x1 - x3)\n",
        "elif symbol == '%':\n",
        "  print(x1%x3)\n",
        "elif symbol == '/':\n",
        "  print(x1/x3)\n",
        "elif symbol == '//':\n",
        "  print(x1//x3)\n",
        "elif symbol == '**':\n",
        "  print(x1**x3)\n",
        "elif symbol == '*':\n",
        "  print(x1*x3)\n",
        "else:\n",
        "  print('N/A')\n",
        "\n",
        "total = (x1, symbol, x3)\n",
        "print(f'Total value: {total}')\n"
      ]
    },
    {
      "cell_type": "markdown",
      "metadata": {
        "id": "ytnDJlJ6wG3W"
      },
      "source": [
        "Parking Garage:"
      ]
    },
    {
      "cell_type": "code",
      "execution_count": null,
      "metadata": {
        "colab": {
          "base_uri": "https://localhost:8080/"
        },
        "id": "kDTnGUrSwI9b",
        "outputId": "f2f84ae2-a5c5-45dd-d2d2-546a47b3f41b"
      },
      "outputs": [
        {
          "name": "stdout",
          "output_type": "stream",
          "text": [
            "Hour 1 fee: $10\n",
            "Hour 2 fee: $10.0\n",
            "Hour 3 fee: $12.5\n",
            "Hour 4 fee: $15.0\n",
            "Hour 5 fee: $17.5\n",
            "Hour 6 fee: $20.0\n",
            "Hour 7 fee: $20\n",
            "Hour 8 fee: $20\n"
          ]
        }
      ],
      "source": [
        "for numberHours in range (1,9):\n",
        "  fee = 5 + 2.5*numberHours\n",
        "  if fee < 10:\n",
        "    fee = 10\n",
        "  elif fee > 20:\n",
        "    fee = 20\n",
        "  print(f'Hour {numberHours} fee: ${fee}')"
      ]
    },
    {
      "cell_type": "markdown",
      "metadata": {
        "id": "6q69kw_Ow0k3"
      },
      "source": [
        "Movie Theater"
      ]
    },
    {
      "cell_type": "code",
      "execution_count": null,
      "metadata": {
        "colab": {
          "base_uri": "https://localhost:8080/"
        },
        "id": "pn8a0vM9wTNS",
        "outputId": "d3b52beb-545c-4368-fc3b-454535eb3cd3"
      },
      "outputs": [
        {
          "name": "stdout",
          "output_type": "stream",
          "text": [
            "0 0\n",
            "25 75\n",
            "50 90\n",
            "75 95\n",
            "100 100\n",
            "125 95\n",
            "150 90\n",
            "175 85\n",
            "200 80\n"
          ]
        }
      ],
      "source": [
        "for adMoney in range(0,201,25):\n",
        "  p = round(2*(adMoney**0.5))\n",
        "  print(adMoney, (p*10+200)-200- adMoney)"
      ]
    },
    {
      "cell_type": "code",
      "execution_count": null,
      "metadata": {
        "colab": {
          "base_uri": "https://localhost:8080/"
        },
        "id": "WQHV0UjBxKHo",
        "outputId": "0d0500b2-8469-48ba-d6fb-6c885a5c9dcc"
      },
      "outputs": [
        {
          "name": "stdout",
          "output_type": "stream",
          "text": [
            "0 0\n",
            "25 75\n",
            "50 90\n",
            "75 105\n",
            "100 100\n",
            "125 95\n",
            "150 90\n",
            "175 85\n",
            "200 80\n"
          ]
        }
      ],
      "source": [
        "for adMoney in range(0,201,25):\n",
        "  revenue = ( 20 + 2*round(adMoney**0.5))*10\n",
        "  costs = 200 + adMoney\n",
        "  profit = revenue - costs\n",
        "  print(adMoney, profit)\n"
      ]
    },
    {
      "cell_type": "markdown",
      "metadata": {
        "id": "pqFy55UzIQvz"
      },
      "source": [
        "Rock-Paper-Scissor"
      ]
    },
    {
      "cell_type": "code",
      "execution_count": null,
      "metadata": {
        "colab": {
          "background_save": true,
          "base_uri": "https://localhost:8080/"
        },
        "id": "W65i22GJM9hM",
        "outputId": "2edf0e97-892d-41a5-f421-b525cf7aa4fb"
      },
      "outputs": [
        {
          "name": "stdout",
          "output_type": "stream",
          "text": [
            "Player choose Rock; Computer choose Rock\n",
            "Tie\n",
            "Player choose Scissors; Computer choose Paper\n",
            "Computer wins\n"
          ]
        }
      ],
      "source": [
        "import random\n",
        "x = input('Would you like to play (yes/no)? ')\n",
        "while x == 'yes':\n",
        "\n",
        "  z = input('Player, choose rock/paper/scissors: ').capitalize()\n",
        "  y = random.choice (['rock', 'paper', 'scissors']).capitalize()\n",
        "\n",
        "  print( f'Player choose {z}; Computer choose {y}')\n",
        "\n",
        "  if z == y:\n",
        "    print('Tie')\n",
        "  elif ( z == 'rock' and y == 'scissors') or (z == 'scissors' and y == 'paper') or (z == 'paper' and y == 'rock'):\n",
        "    print('Player wins')\n",
        "  else:\n",
        "    print('Computer wins')\n",
        "  x = input('Would you like to play again (yes/no)? ')\n",
        "\n",
        "print('Thank you!')"
      ]
    },
    {
      "cell_type": "markdown",
      "source": [
        "List sorter"
      ],
      "metadata": {
        "id": "h8a2c08sTWFv"
      }
    },
    {
      "cell_type": "code",
      "source": [
        "x = []\n",
        "num = float(input('Enter a number: '))\n",
        "while num != 0.0:\n",
        "  x.append(num) #puts number in the list\n",
        "  num = float(input('Enter a number: '))\n",
        "x.sort(reverse=True)\n",
        "print(x)"
      ],
      "metadata": {
        "colab": {
          "base_uri": "https://localhost:8080/"
        },
        "id": "W9nhQaeWPBh6",
        "outputId": "5aadb86f-52ac-40fd-e731-dd0d21affaaa"
      },
      "execution_count": 9,
      "outputs": [
        {
          "output_type": "stream",
          "name": "stdout",
          "text": [
            "Enter a number: 5\n",
            "Enter a number: 6\n",
            "Enter a number: 7\n",
            "Enter a number: 0\n",
            "[7.0, 6.0, 5.0]\n"
          ]
        }
      ]
    },
    {
      "cell_type": "markdown",
      "source": [
        "or"
      ],
      "metadata": {
        "id": "DT60NQ9eTjW1"
      }
    },
    {
      "cell_type": "code",
      "source": [
        "x = []\n",
        "while True:\n",
        "  num = float(input('Enter a number: '))\n",
        "  if num == 0.0:\n",
        "    break\n",
        "  x.append(num) #puts number in the list\n",
        "x.sort(reverse=True)\n",
        "print(x)"
      ],
      "metadata": {
        "colab": {
          "base_uri": "https://localhost:8080/"
        },
        "id": "gwNWO2gqTaQB",
        "outputId": "7b39efd6-d16a-4603-86fc-133be879e9d6"
      },
      "execution_count": 10,
      "outputs": [
        {
          "output_type": "stream",
          "name": "stdout",
          "text": [
            "Enter a number: 7\n",
            "Enter a number: 9\n",
            "Enter a number: 8\n",
            "Enter a number: 5\n",
            "Enter a number: 0\n",
            "[9.0, 8.0, 7.0, 5.0]\n"
          ]
        }
      ]
    }
  ],
  "metadata": {
    "colab": {
      "provenance": [],
      "authorship_tag": "ABX9TyNQE6XBU3McumxfRh6SXW7A",
      "include_colab_link": true
    },
    "kernelspec": {
      "display_name": "Python 3",
      "name": "python3"
    },
    "language_info": {
      "name": "python"
    }
  },
  "nbformat": 4,
  "nbformat_minor": 0
}
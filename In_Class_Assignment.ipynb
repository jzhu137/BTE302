{
  "nbformat": 4,
  "nbformat_minor": 0,
  "metadata": {
    "colab": {
      "provenance": [],
      "authorship_tag": "ABX9TyOe6qGU/SWSMMwZ/F8Zca9J",
      "include_colab_link": true
    },
    "kernelspec": {
      "name": "python3",
      "display_name": "Python 3"
    },
    "language_info": {
      "name": "python"
    }
  },
  "cells": [
    {
      "cell_type": "markdown",
      "metadata": {
        "id": "view-in-github",
        "colab_type": "text"
      },
      "source": [
        "<a href=\"https://colab.research.google.com/github/jzhu137/BTE302/blob/main/In_Class_Assignment.ipynb\" target=\"_parent\"><img src=\"https://colab.research.google.com/assets/colab-badge.svg\" alt=\"Open In Colab\"/></a>"
      ]
    },
    {
      "cell_type": "code",
      "execution_count": null,
      "metadata": {
        "colab": {
          "base_uri": "https://localhost:8080/"
        },
        "id": "tvJMF5XepCoD",
        "outputId": "fe51091e-0975-4006-c4b7-0113291e2b95"
      },
      "outputs": [
        {
          "output_type": "stream",
          "name": "stdout",
          "text": [
            "Enter the radius:5\n",
            "Enter the height: 6\n",
            "Surface Area: 345.4 sq.ft\n"
          ]
        }
      ],
      "source": [
        "R = float(input(\"Enter the radius:\"))\n",
        "H = float(input(\"Enter the height: \"))\n",
        "SA = 2*3.14*R**2 + 2*3.14*R*H\n",
        "print(f'Surface Area: {SA} sq.ft')"
      ]
    },
    {
      "cell_type": "markdown",
      "source": [
        "Calculator:"
      ],
      "metadata": {
        "id": "_S9vp2vBwktF"
      }
    },
    {
      "cell_type": "code",
      "source": [
        "x1 = float(input('Please enter a number: '))\n",
        "symbol = input('Please enter a symbol: ')\n",
        "x3 = float(input('Please enter another number: '))\n",
        "\n",
        "if symbol == '+':\n",
        "  print(x1 + x3)\n",
        "elif symbol == '-':\n",
        "  print(x1 - x3)\n",
        "elif symbol == '%':\n",
        "  print(x1%x3)\n",
        "elif symbol == '/':\n",
        "  print(x1/x3)\n",
        "elif symbol == '//':\n",
        "  print(x1//x3)\n",
        "elif symbol == '**':\n",
        "  print(x1**x3)\n",
        "elif symbol == '*':\n",
        "  print(x1*x3)\n",
        "else:\n",
        "  print('N/A')\n",
        "\n",
        "total = (x1, symbol, x3)\n",
        "print(f'Total value: {total}')\n"
      ],
      "metadata": {
        "id": "tMN3WxbrpYg1",
        "colab": {
          "base_uri": "https://localhost:8080/"
        },
        "outputId": "c51f7b5f-1956-4817-9b1c-209b97807fb4"
      },
      "execution_count": 5,
      "outputs": [
        {
          "output_type": "stream",
          "name": "stdout",
          "text": [
            "Please enter a number: 6\n",
            "Please enter a symbol: O\n",
            "Please enter another number: 9\n",
            "N/A\n",
            "Total value: (6.0, 'O', 9.0)\n"
          ]
        }
      ]
    }
  ]
}
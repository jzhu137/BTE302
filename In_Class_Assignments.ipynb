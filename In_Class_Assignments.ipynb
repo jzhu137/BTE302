{
  "nbformat": 4,
  "nbformat_minor": 0,
  "metadata": {
    "colab": {
      "provenance": [],
      "include_colab_link": true
    },
    "kernelspec": {
      "name": "python3",
      "display_name": "Python 3"
    },
    "language_info": {
      "name": "python"
    }
  },
  "cells": [
    {
      "cell_type": "markdown",
      "metadata": {
        "id": "view-in-github",
        "colab_type": "text"
      },
      "source": [
        "<a href=\"https://colab.research.google.com/github/jzhu137/BTE302/blob/main/In_Class_Assignments.ipynb\" target=\"_parent\"><img src=\"https://colab.research.google.com/assets/colab-badge.svg\" alt=\"Open In Colab\"/></a>"
      ]
    },
    {
      "cell_type": "code",
      "source": [
        "pi=3.1415926\n",
        "height= int(input(\"Please height length: \"))\n",
        "radius= int(input(\"Please radius length: \"))\n",
        "area=2*pi*radius**2+2*pi*radius*height\n",
        "print(f'The area of cylinder is: {area} sq. ft')"
      ],
      "metadata": {
        "id": "Zqq1msQ3DHxB"
      },
      "execution_count": null,
      "outputs": []
    },
    {
      "cell_type": "code",
      "source": [
        "x=float(input('Please enter a number: '))\n",
        "symbol=input('Please enter a symbol: ')\n",
        "y=float(input('Please enter another number: '))\n",
        "if symbol=='+':\n",
        "  print(x+y)\n",
        "elif symbol=='-':\n",
        "  print(x-y)\n",
        "elif symbol=='*':\n",
        "  print(x*y)\n",
        "elif symbol=='/':\n",
        "  print(x/y)\n",
        "elif symbol=='//':\n",
        "  print(x//y)\n",
        "elif symbol=='**':\n",
        "  print(x**y)\n",
        "elif symbol=='%':\n",
        "  print(x%y)\n",
        "else:\n",
        "  print('N/A')\n",
        "\n",
        "total=(x,symbol,y)\n",
        "print('Total Value:',total)"
      ],
      "metadata": {
        "id": "nlsiuwUYFgNU",
        "colab": {
          "base_uri": "https://localhost:8080/"
        },
        "outputId": "e5a22670-df6d-4aa8-a77c-9964b188310a"
      },
      "execution_count": null,
      "outputs": [
        {
          "output_type": "stream",
          "name": "stdout",
          "text": [
            "Please enter a number: 5\n",
            "Please enter a symbol: *\n",
            "Please enter another number: 6\n",
            "30.0\n",
            "Total Value: (5.0, '*', 6.0)\n"
          ]
        }
      ]
    },
    {
      "cell_type": "markdown",
      "source": [],
      "metadata": {
        "id": "Xs58kt6AK7w9"
      }
    },
    {
      "cell_type": "code",
      "source": [
        "\n",
        "\n",
        "for numberHours in range(1,9):\n",
        "  fee=5+2.5*numberHours\n",
        "  if fee<10:\n",
        "    fee=10.0\n",
        "  elif fee>20:\n",
        "    fee=20.0\n",
        "  print(numberHours,fee)\n",
        "\n"
      ],
      "metadata": {
        "colab": {
          "base_uri": "https://localhost:8080/"
        },
        "id": "Q_AKLn2IYydN",
        "outputId": "80c93877-15af-41d9-be57-7a8757292137"
      },
      "execution_count": null,
      "outputs": [
        {
          "output_type": "stream",
          "name": "stdout",
          "text": [
            "1 10\n",
            "2 10\n",
            "3 12.5\n",
            "4 15.0\n",
            "5 17.5\n",
            "6 20.0\n",
            "7 20\n",
            "8 20\n"
          ]
        }
      ]
    },
    {
      "cell_type": "code",
      "source": [
        "for adMoney in range(0,201,25):\n",
        "  revenue=(20+2*round(adMoney**.5))*10\n",
        "  costs=200+adMoney\n",
        "  profit=revenue-costs\n",
        "  print(adMoney,profit)"
      ],
      "metadata": {
        "colab": {
          "base_uri": "https://localhost:8080/"
        },
        "id": "1PrSdhaxhRNc",
        "outputId": "0b96a037-832f-441c-8d6c-6e666f2a4ea7"
      },
      "execution_count": null,
      "outputs": [
        {
          "output_type": "stream",
          "name": "stdout",
          "text": [
            "0 0\n",
            "25 75\n",
            "50 90\n",
            "75 105\n",
            "100 100\n",
            "125 95\n",
            "150 90\n",
            "175 85\n",
            "200 80\n"
          ]
        }
      ]
    },
    {
      "cell_type": "code",
      "source": [
        "import random\n",
        "\n",
        "while True:\n",
        "  yn=input(\"Would you like to play: y/n: \")\n",
        "  if yn==\"y\":\n",
        "    play=input(\"Enter your move: \")\n",
        "    computer=random.choice([\"rock\",\"paper\",\"scissors\"])\n",
        "    print('Player chose:',play,'Computer chose:',computer)\n",
        "    if play==computer:\n",
        "      print(\"It's a tie! You both picked \",play)\n",
        "    elif play==\"rock\" and computer==\"scissors\" or play==\"paper\" and computer==\"rock\" or play==\"scissors\" and computer==\"paper\":\n",
        "      print(\"You win!\",play,\"Beats\",computer)\n",
        "    else:\n",
        "      print(computer,\"beats\",play,\"YOU LOSE :(\")\n",
        "      continue\n",
        "  else:\n",
        "    print(\"Thanks for playing!\")\n",
        "    break"
      ],
      "metadata": {
        "id": "jQdChX-5MeIL"
      },
      "execution_count": null,
      "outputs": []
    },
    {
      "cell_type": "code",
      "source": [
        "lst=[]\n",
        "num=float(input(\"Give a number: \"))\n",
        "while num != 0.0:\n",
        "  lst.append(num)\n",
        "  num=float(input(\"Give a number: \"))\n",
        "lst.sort(reverse=True)\n",
        "print(lst)\n"
      ],
      "metadata": {
        "colab": {
          "base_uri": "https://localhost:8080/"
        },
        "id": "Tx2JpgT8SsPm",
        "outputId": "0a56b0ea-3107-4e00-d23d-44b08a2c5244"
      },
      "execution_count": null,
      "outputs": [
        {
          "output_type": "stream",
          "name": "stdout",
          "text": [
            "Give a number: 6\n",
            "Give a number: 7.8\n",
            "Give a number: 0\n",
            "[7.8, 6.0]\n"
          ]
        }
      ]
    },
    {
      "cell_type": "markdown",
      "source": [
        "or"
      ],
      "metadata": {
        "id": "dJExe30k2wOH"
      }
    },
    {
      "cell_type": "code",
      "source": [
        "x = []\n",
        "while True:\n",
        "  num = float(input('Enter a number: '))\n",
        "  if num == 0.0:\n",
        "    break\n",
        "  x.append(num) #puts number in the list\n",
        "x.sort(reverse=True)\n",
        "print(x)"
      ],
      "metadata": {
        "colab": {
          "base_uri": "https://localhost:8080/"
        },
        "id": "2tki9Lus2wz_",
        "outputId": "8e553897-8e88-4f8d-e8b9-b2691821b7fd"
      },
      "execution_count": 29,
      "outputs": [
        {
          "output_type": "stream",
          "name": "stdout",
          "text": [
            "Enter a number: 7\n",
            "Enter a number: 8\n",
            "Enter a number: 0\n",
            "[8.0, 7.0]\n"
          ]
        }
      ]
    },
    {
      "cell_type": "code",
      "source": [
        "L1=[1,2,3,4]\n",
        "L2=[1,2,5,6]\n",
        "\n",
        "for item in L1[:]:\n",
        "  if item in L2:\n",
        "    L1.remove(item)\n",
        "\n",
        "L1"
      ],
      "metadata": {
        "colab": {
          "base_uri": "https://localhost:8080/"
        },
        "id": "cZRHMffOT8_8",
        "outputId": "f5aa8583-fef0-4f23-fdef-8cf8bb7d394c"
      },
      "execution_count": null,
      "outputs": [
        {
          "output_type": "execute_result",
          "data": {
            "text/plain": [
              "[3, 4]"
            ]
          },
          "metadata": {},
          "execution_count": 46
        }
      ]
    },
    {
      "cell_type": "markdown",
      "source": [
        "Months"
      ],
      "metadata": {
        "id": "HasXLkM52Lil"
      }
    },
    {
      "cell_type": "code",
      "source": [
        "months = {}\n",
        "names = [\"Jan\", \"Feb\", \"Mar\", \"Apr\",'May', \"Jun\", \"Jul\", \"Aug\", \"Sep\", \"Oct\", \"Nov\", \"Dec\"]\n",
        "numbers = [1,2,3,4,5,6,7,8,9,10,11,12]\n",
        "\n",
        "for x in range(len(names)):\n",
        "  months[names[x]] = numbers[x]\n",
        "\n",
        "print(months)\n"
      ],
      "metadata": {
        "colab": {
          "base_uri": "https://localhost:8080/"
        },
        "id": "TOquPr1cyoyM",
        "outputId": "68cb77d2-c58c-4fba-ac4f-9ecb6beebbfb"
      },
      "execution_count": 4,
      "outputs": [
        {
          "output_type": "stream",
          "name": "stdout",
          "text": [
            "{'Jan': 1, 'Feb': 2, 'Mar': 3, 'Apr': 4, 'May': 5, 'Jun': 6, 'Jul': 7, 'Aug': 8, 'Sep': 9, 'Oct': 10, 'Nov': 11, 'Dec': 12}\n"
          ]
        }
      ]
    },
    {
      "cell_type": "code",
      "source": [
        "months = {}\n",
        "names = [\"Jan\", \"Feb\", \"Mar\", \"Apr\", \"May\", \"Jun\", \"Jul\", \"Aug\", \"Sep\", \"Oct\", \"Nov\", \"Dec\"]\n",
        "numbers = [1,2,3,4,5,6,7,8,9,10,11,12]\n",
        "\n",
        "for num in numbers:\n",
        "  months[num] = names[num - 1]\n",
        "print(months)"
      ],
      "metadata": {
        "colab": {
          "base_uri": "https://localhost:8080/"
        },
        "id": "M2D_eTlf24O7",
        "outputId": "7bf81b09-3c66-47d6-e163-e6ab89cb440c"
      },
      "execution_count": 3,
      "outputs": [
        {
          "output_type": "stream",
          "name": "stdout",
          "text": [
            "{1: 'Jan', 2: 'Feb', 3: 'Mar', 4: 'Apr', 5: 'May', 6: 'Jun', 7: 'Jul', 8: 'Aug', 9: 'Sep', 10: 'Oct', 11: 'Nov', 12: 'Dec'}\n"
          ]
        }
      ]
    }
  ]
}